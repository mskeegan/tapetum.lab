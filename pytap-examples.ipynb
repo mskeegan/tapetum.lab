{
 "metadata": {
  "name": ""
 },
 "nbformat": 3,
 "nbformat_minor": 0,
 "worksheets": [
  {
   "cells": [
    {
     "cell_type": "code",
     "collapsed": false,
     "input": [
      "import numpy as np\n",
      "import cv2\n",
      "\n",
      "image_folder = './'\n",
      "image_name = 'testimage.jpg'\n",
      "full_image_name = image_folder+image_name\n",
      "\n",
      "image_folder = './'\n",
      "image_dest_folder = image_folder\n",
      "image_name = 'resultimage.jpg'\n",
      "final_image_name = image_dest_folder + image_name\n",
      "\n",
      "img = cv2.imread(full_image_name,0)"
     ],
     "language": "python",
     "metadata": {},
     "outputs": [],
     "prompt_number": 4
    },
    {
     "cell_type": "code",
     "collapsed": false,
     "input": [
      "import tap\n",
      "output = tap.denoise(img,0.01*255)\n",
      "\n",
      "cv2.imwrite(final_image_name,output)"
     ],
     "language": "python",
     "metadata": {},
     "outputs": [
      {
       "metadata": {},
       "output_type": "pyout",
       "prompt_number": 5,
       "text": [
        "True"
       ]
      }
     ],
     "prompt_number": 5
    },
    {
     "cell_type": "code",
     "collapsed": false,
     "input": [],
     "language": "python",
     "metadata": {},
     "outputs": []
    }
   ],
   "metadata": {}
  }
 ]
}